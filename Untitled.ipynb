{
 "cells": [
  {
   "cell_type": "code",
   "execution_count": 6,
   "metadata": {
    "ExecuteTime": {
     "end_time": "2019-03-22T07:51:17.559071Z",
     "start_time": "2019-03-22T07:51:17.555503Z"
    }
   },
   "outputs": [],
   "source": [
    "import tensorflow as tf\n",
    "import numpy as np\n",
    "from tensorflow.contrib.learn.python.learn.datasets import base"
   ]
  },
  {
   "cell_type": "code",
   "execution_count": 8,
   "metadata": {
    "ExecuteTime": {
     "end_time": "2019-03-22T07:54:07.081312Z",
     "start_time": "2019-03-22T07:54:07.075368Z"
    }
   },
   "outputs": [],
   "source": [
    "IRIS_TRAINING = 'iris_training.csv'\n",
    "IRIS_TEST = 'iris_test.csv'"
   ]
  },
  {
   "cell_type": "code",
   "execution_count": 12,
   "metadata": {
    "ExecuteTime": {
     "end_time": "2019-03-22T07:57:16.074705Z",
     "start_time": "2019-03-22T07:57:16.061289Z"
    }
   },
   "outputs": [
    {
     "name": "stdout",
     "output_type": "stream",
     "text": [
      "[[6.4 2.8 5.6 2.2]\n",
      " [5.  2.3 3.3 1. ]\n",
      " [4.9 2.5 4.5 1.7]\n",
      " [4.9 3.1 1.5 0.1]\n",
      " [5.7 3.8 1.7 0.3]\n",
      " [4.4 3.2 1.3 0.2]\n",
      " [5.4 3.4 1.5 0.4]\n",
      " [6.9 3.1 5.1 2.3]\n",
      " [6.7 3.1 4.4 1.4]\n",
      " [5.1 3.7 1.5 0.4]\n",
      " [5.2 2.7 3.9 1.4]\n",
      " [6.9 3.1 4.9 1.5]\n",
      " [5.8 4.  1.2 0.2]\n",
      " [5.4 3.9 1.7 0.4]\n",
      " [7.7 3.8 6.7 2.2]\n",
      " [6.3 3.3 4.7 1.6]\n",
      " [6.8 3.2 5.9 2.3]\n",
      " [7.6 3.  6.6 2.1]\n",
      " [6.4 3.2 5.3 2.3]\n",
      " [5.7 4.4 1.5 0.4]\n",
      " [6.7 3.3 5.7 2.1]\n",
      " [6.4 2.8 5.6 2.1]\n",
      " [5.4 3.9 1.3 0.4]\n",
      " [6.1 2.6 5.6 1.4]\n",
      " [7.2 3.  5.8 1.6]\n",
      " [5.2 3.5 1.5 0.2]\n",
      " [5.8 2.6 4.  1.2]\n",
      " [5.9 3.  5.1 1.8]\n",
      " [5.4 3.  4.5 1.5]\n",
      " [6.7 3.  5.  1.7]\n",
      " [6.3 2.3 4.4 1.3]\n",
      " [5.1 2.5 3.  1.1]\n",
      " [6.4 3.2 4.5 1.5]\n",
      " [6.8 3.  5.5 2.1]\n",
      " [6.2 2.8 4.8 1.8]\n",
      " [6.9 3.2 5.7 2.3]\n",
      " [6.5 3.2 5.1 2. ]\n",
      " [5.8 2.8 5.1 2.4]\n",
      " [5.1 3.8 1.5 0.3]\n",
      " [4.8 3.  1.4 0.3]\n",
      " [7.9 3.8 6.4 2. ]\n",
      " [5.8 2.7 5.1 1.9]\n",
      " [6.7 3.  5.2 2.3]\n",
      " [5.1 3.8 1.9 0.4]\n",
      " [4.7 3.2 1.6 0.2]\n",
      " [6.  2.2 5.  1.5]\n",
      " [4.8 3.4 1.6 0.2]\n",
      " [7.7 2.6 6.9 2.3]\n",
      " [4.6 3.6 1.  0.2]\n",
      " [7.2 3.2 6.  1.8]\n",
      " [5.  3.3 1.4 0.2]\n",
      " [6.6 3.  4.4 1.4]\n",
      " [6.1 2.8 4.  1.3]\n",
      " [5.  3.2 1.2 0.2]\n",
      " [7.  3.2 4.7 1.4]\n",
      " [6.  3.  4.8 1.8]\n",
      " [7.4 2.8 6.1 1.9]\n",
      " [5.8 2.7 5.1 1.9]\n",
      " [6.2 3.4 5.4 2.3]\n",
      " [5.  2.  3.5 1. ]\n",
      " [5.6 2.5 3.9 1.1]\n",
      " [6.7 3.1 5.6 2.4]\n",
      " [6.3 2.5 5.  1.9]\n",
      " [6.4 3.1 5.5 1.8]\n",
      " [6.2 2.2 4.5 1.5]\n",
      " [7.3 2.9 6.3 1.8]\n",
      " [4.4 3.  1.3 0.2]\n",
      " [7.2 3.6 6.1 2.5]\n",
      " [6.5 3.  5.5 1.8]\n",
      " [5.  3.4 1.5 0.2]\n",
      " [4.7 3.2 1.3 0.2]\n",
      " [6.6 2.9 4.6 1.3]\n",
      " [5.5 3.5 1.3 0.2]\n",
      " [7.7 3.  6.1 2.3]\n",
      " [6.1 3.  4.9 1.8]\n",
      " [4.9 3.1 1.5 0.1]\n",
      " [5.5 2.4 3.8 1.1]\n",
      " [5.7 2.9 4.2 1.3]\n",
      " [6.  2.9 4.5 1.5]\n",
      " [6.4 2.7 5.3 1.9]\n",
      " [5.4 3.7 1.5 0.2]\n",
      " [6.1 2.9 4.7 1.4]\n",
      " [6.5 2.8 4.6 1.5]\n",
      " [5.6 2.7 4.2 1.3]\n",
      " [6.3 3.4 5.6 2.4]\n",
      " [4.9 3.1 1.5 0.1]\n",
      " [6.8 2.8 4.8 1.4]\n",
      " [5.7 2.8 4.5 1.3]\n",
      " [6.  2.7 5.1 1.6]\n",
      " [5.  3.5 1.3 0.3]\n",
      " [6.5 3.  5.2 2. ]\n",
      " [6.1 2.8 4.7 1.2]\n",
      " [5.1 3.5 1.4 0.3]\n",
      " [4.6 3.1 1.5 0.2]\n",
      " [6.5 3.  5.8 2.2]\n",
      " [4.6 3.4 1.4 0.3]\n",
      " [4.6 3.2 1.4 0.2]\n",
      " [7.7 2.8 6.7 2. ]\n",
      " [5.9 3.2 4.8 1.8]\n",
      " [5.1 3.8 1.6 0.2]\n",
      " [4.9 3.  1.4 0.2]\n",
      " [4.9 2.4 3.3 1. ]\n",
      " [4.5 2.3 1.3 0.3]\n",
      " [5.8 2.7 4.1 1. ]\n",
      " [5.  3.4 1.6 0.4]\n",
      " [5.2 3.4 1.4 0.2]\n",
      " [5.3 3.7 1.5 0.2]\n",
      " [5.  3.6 1.4 0.2]\n",
      " [5.6 2.9 3.6 1.3]\n",
      " [4.8 3.1 1.6 0.2]\n",
      " [6.3 2.7 4.9 1.8]\n",
      " [5.7 2.8 4.1 1.3]\n",
      " [5.  3.  1.6 0.2]\n",
      " [6.3 3.3 6.  2.5]\n",
      " [5.  3.5 1.6 0.6]\n",
      " [5.5 2.6 4.4 1.2]\n",
      " [5.7 3.  4.2 1.2]\n",
      " [4.4 2.9 1.4 0.2]\n",
      " [4.8 3.  1.4 0.1]\n",
      " [5.5 2.4 3.7 1. ]]\n",
      "\n",
      " [[5.9 3.  4.2 1.5]\n",
      " [6.9 3.1 5.4 2.1]\n",
      " [5.1 3.3 1.7 0.5]\n",
      " [6.  3.4 4.5 1.6]\n",
      " [5.5 2.5 4.  1.3]\n",
      " [6.2 2.9 4.3 1.3]\n",
      " [5.5 4.2 1.4 0.2]\n",
      " [6.3 2.8 5.1 1.5]\n",
      " [5.6 3.  4.1 1.3]\n",
      " [6.7 2.5 5.8 1.8]\n",
      " [7.1 3.  5.9 2.1]\n",
      " [4.3 3.  1.1 0.1]\n",
      " [5.6 2.8 4.9 2. ]\n",
      " [5.5 2.3 4.  1.3]\n",
      " [6.  2.2 4.  1. ]\n",
      " [5.1 3.5 1.4 0.2]\n",
      " [5.7 2.6 3.5 1. ]\n",
      " [4.8 3.4 1.9 0.2]\n",
      " [5.1 3.4 1.5 0.2]\n",
      " [5.7 2.5 5.  2. ]\n",
      " [5.4 3.4 1.7 0.2]\n",
      " [5.6 3.  4.5 1.5]\n",
      " [6.3 2.9 5.6 1.8]\n",
      " [6.3 2.5 4.9 1.5]\n",
      " [5.8 2.7 3.9 1.2]\n",
      " [6.1 3.  4.6 1.4]\n",
      " [5.2 4.1 1.5 0.1]\n",
      " [6.7 3.1 4.7 1.5]\n",
      " [6.7 3.3 5.7 2.5]\n",
      " [6.4 2.9 4.3 1.3]]\n"
     ]
    }
   ],
   "source": [
    "training_set = base.load_csv_with_header(filename=IRIS_TRAINING, \n",
    "                                         features_dtype=np.float32, \n",
    "                                         target_dtype=np.int)\n",
    "test_set = base.load_csv_with_header(filename=IRIS_TEST, \n",
    "                                     features_dtype=np.float32, \n",
    "                                     target_dtype=np.int)\n",
    "\n",
    "print(training_set.data)\n",
    "print('\\n', test_set.data)"
   ]
  },
  {
   "cell_type": "code",
   "execution_count": 24,
   "metadata": {
    "ExecuteTime": {
     "end_time": "2019-03-22T08:11:02.409574Z",
     "start_time": "2019-03-22T08:11:02.393771Z"
    }
   },
   "outputs": [
    {
     "name": "stdout",
     "output_type": "stream",
     "text": [
      "INFO:tensorflow:Using default config.\n",
      "INFO:tensorflow:Using config: {'_model_dir': './iris_model', '_tf_random_seed': None, '_save_summary_steps': 100, '_save_checkpoints_steps': None, '_save_checkpoints_secs': 600, '_session_config': allow_soft_placement: true\n",
      "graph_options {\n",
      "  rewrite_options {\n",
      "    meta_optimizer_iterations: ONE\n",
      "  }\n",
      "}\n",
      ", '_keep_checkpoint_max': 5, '_keep_checkpoint_every_n_hours': 10000, '_log_step_count_steps': 100, '_train_distribute': None, '_device_fn': None, '_protocol': None, '_eval_distribute': None, '_experimental_distribute': None, '_service': None, '_cluster_spec': <tensorflow.python.training.server_lib.ClusterSpec object at 0x7f8526ebb438>, '_task_type': 'worker', '_task_id': 0, '_global_id_in_cluster': 0, '_master': '', '_evaluation_master': '', '_is_chief': True, '_num_ps_replicas': 0, '_num_worker_replicas': 1}\n"
     ]
    }
   ],
   "source": [
    "feature_name = 'flower_features'\n",
    "\n",
    "feature_columns = [tf.feature_column.numeric_column(feature_name, \n",
    "                                                   shape=[4])]\n",
    "\n",
    "classifier = tf.estimator.LinearClassifier(feature_columns=feature_name, \n",
    "                                           n_classes=3, \n",
    "                                           model_dir='./iris_model')"
   ]
  },
  {
   "cell_type": "code",
   "execution_count": null,
   "metadata": {},
   "outputs": [],
   "source": []
  }
 ],
 "metadata": {
  "kernelspec": {
   "display_name": "Python 3",
   "language": "python",
   "name": "python3"
  },
  "language_info": {
   "codemirror_mode": {
    "name": "ipython",
    "version": 3
   },
   "file_extension": ".py",
   "mimetype": "text/x-python",
   "name": "python",
   "nbconvert_exporter": "python",
   "pygments_lexer": "ipython3",
   "version": "3.6.7"
  }
 },
 "nbformat": 4,
 "nbformat_minor": 2
}
