{
 "cells": [
  {
   "cell_type": "markdown",
   "metadata": {},
   "source": [
    "### Steps :\n",
    "- load dir\n",
    "- iterate and load the array images\n",
    "-  "
   ]
  },
  {
   "cell_type": "code",
   "execution_count": 6,
   "metadata": {
    "ExecuteTime": {
     "end_time": "2019-03-19T02:18:19.694025Z",
     "start_time": "2019-03-19T02:18:19.489215Z"
    }
   },
   "outputs": [
    {
     "data": {
      "image/png": "[encoded data removed]",
      "text/plain": [
       "<matplotlib.figure.Figure at 0x7fcc64daabe0>"
      ]
     },
     "metadata": {
      "needs_background": "light"
     },
     "output_type": "display_data"
    }
   ],
   "source": [
    "import os\n",
    "import cv2\n",
    "import matplotlib.pyplot as plt\n",
    "%matplotlib inline\n",
    "\n",
    "DATA_DIR = 'cancer/'\n",
    "CATEGORIES = ['invasive_carcinoma', 'non_invasive_carcinoma']\n",
    "\n",
    "\n",
    "for category in CATEGORIES:\n",
    "    path = os.path.join(DATA_DIR, category)\n",
    "    for img in os.listdir(path):\n",
    "        img_array = cv2.imread(os.path.join(path, img), cv2.IMREAD_GRAYSCALE)\n",
    "        plt.imshow(img_array, cmap='gray')\n",
    "        plt.show()\n",
    "        break\n",
    "    break"
   ]
  },
  {
   "cell_type": "code",
   "execution_count": 7,
   "metadata": {
    "ExecuteTime": {
     "end_time": "2019-03-19T02:19:03.022962Z",
     "start_time": "2019-03-19T02:19:03.018547Z"
    }
   },
   "outputs": [
    {
     "name": "stdout",
     "output_type": "stream",
     "text": [
      "(50, 50)\n"
     ]
    }
   ],
   "source": [
    "print(img_array.shape)"
   ]
  },
  {
   "cell_type": "code",
   "execution_count": 8,
   "metadata": {
    "ExecuteTime": {
     "end_time": "2019-03-19T02:19:05.485512Z",
     "start_time": "2019-03-19T02:19:05.279032Z"
    }
   },
   "outputs": [
    {
     "data": {
      "text/plain": [
       "[]"
      ]
     },
     "execution_count": 8,
     "metadata": {},
     "output_type": "execute_result"
    },
    {
     "data": {
      "image/png": "[encoded data removed]",
      "text/plain": [
       "<matplotlib.figure.Figure at 0x7fcc64d6d668>"
      ]
     },
     "metadata": {
      "needs_background": "light"
     },
     "output_type": "display_data"
    }
   ],
   "source": [
    "# normalize size of img\n",
    "IMG_SIZE = 50\n",
    "new_array = cv2.resize(img_array, (IMG_SIZE, IMG_SIZE))\n",
    "plt.imshow(new_array, cmap='gray')\n",
    "plt.plot()"
   ]
  },
  {
   "cell_type": "code",
   "execution_count": 9,
   "metadata": {
    "ExecuteTime": {
     "end_time": "2019-03-19T02:19:50.713404Z",
     "start_time": "2019-03-19T02:19:10.075451Z"
    }
   },
   "outputs": [],
   "source": [
    "# create training datset\n",
    "training_data = []\n",
    "\n",
    "def create_training_data():\n",
    "    for category in CATEGORIES:\n",
    "        path = os.path.join(DATA_DIR, category)\n",
    "        clas_num = CATEGORIES.index(category)\n",
    "        for img in os.listdir(path):\n",
    "            try:\n",
    "                img_array = cv2.imread(os.path.join(path, img), cv2.IMREAD_GRAYSCALE)\n",
    "                new_array = cv2.resize(img_array, (IMG_SIZE, IMG_SIZE))\n",
    "                training_data.append([new_array, clas_num])\n",
    "            except Exception as e:\n",
    "                pass\n",
    "        \n",
    "create_training_data()"
   ]
  },
  {
   "cell_type": "code",
   "execution_count": 10,
   "metadata": {
    "ExecuteTime": {
     "end_time": "2019-03-19T02:20:43.910735Z",
     "start_time": "2019-03-19T02:20:43.907170Z"
    }
   },
   "outputs": [
    {
     "name": "stdout",
     "output_type": "stream",
     "text": [
      "267347\n"
     ]
    }
   ],
   "source": [
    "print(len(training_data))"
   ]
  },
  {
   "cell_type": "code",
   "execution_count": 14,
   "metadata": {
    "ExecuteTime": {
     "end_time": "2019-03-19T02:21:36.031709Z",
     "start_time": "2019-03-19T02:21:35.823440Z"
    }
   },
   "outputs": [],
   "source": [
    "# shuffle the data\n",
    "import random\n",
    "import numpy as np\n",
    "\n",
    "random.shuffle(training_data)"
   ]
  },
  {
   "cell_type": "code",
   "execution_count": 15,
   "metadata": {
    "ExecuteTime": {
     "end_time": "2019-03-19T02:21:36.654850Z",
     "start_time": "2019-03-19T02:21:36.650454Z"
    }
   },
   "outputs": [
    {
     "name": "stdout",
     "output_type": "stream",
     "text": [
      "0\n",
      "1\n",
      "1\n",
      "1\n",
      "1\n",
      "0\n",
      "0\n",
      "1\n",
      "1\n",
      "1\n"
     ]
    }
   ],
   "source": [
    "for sample in training_data[:10]:\n",
    "    print(sample[1])"
   ]
  },
  {
   "cell_type": "code",
   "execution_count": 16,
   "metadata": {
    "ExecuteTime": {
     "end_time": "2019-03-19T02:21:38.138506Z",
     "start_time": "2019-03-19T02:21:37.460597Z"
    }
   },
   "outputs": [],
   "source": [
    "X = []\n",
    "y = []\n",
    "\n",
    "\n",
    "for features, label in training_data:\n",
    "    X.append(features)\n",
    "    y.append(label)\n",
    "    \n",
    "X = np.array(X).reshape(-1, IMG_SIZE, IMG_SIZE, 1)   # 1 ==> grayscale\n"
   ]
  },
  {
   "cell_type": "code",
   "execution_count": 17,
   "metadata": {
    "ExecuteTime": {
     "end_time": "2019-03-19T02:22:10.448679Z",
     "start_time": "2019-03-19T02:22:09.364725Z"
    }
   },
   "outputs": [],
   "source": [
    "import pickle\n",
    "\n",
    "\n",
    "pickle_out = open('X_cancer.pickle', 'wb')\n",
    "pickle.dump(X, pickle_out)\n",
    "pickle_out.close()\n",
    "\n",
    "pickle_in = open('y_cancer.pickle', 'wb')\n",
    "pickle.dump(y, pickle_in)\n",
    "pickle_in.close()"
   ]
  },
  {
   "cell_type": "code",
   "execution_count": 19,
   "metadata": {
    "ExecuteTime": {
     "end_time": "2019-03-19T02:22:16.892486Z",
     "start_time": "2019-03-19T02:22:16.273953Z"
    }
   },
   "outputs": [],
   "source": [
    "pickle_in = open('X_cancer.pickle', 'rb')\n",
    "X = pickle.load(pickle_in)"
   ]
  },
  {
   "cell_type": "code",
   "execution_count": 20,
   "metadata": {
    "ExecuteTime": {
     "end_time": "2019-03-19T02:22:17.106835Z",
     "start_time": "2019-03-19T02:22:17.103254Z"
    },
    "scrolled": false
   },
   "outputs": [
    {
     "data": {
      "text/plain": [
       "array([[[180],\n",
       "        [181],\n",
       "        [166],\n",
       "        ...,\n",
       "        [239],\n",
       "        [235],\n",
       "        [177]],\n",
       "\n",
       "       [[186],\n",
       "        [180],\n",
       "        [170],\n",
       "        ...,\n",
       "        [240],\n",
       "        [236],\n",
       "        [218]],\n",
       "\n",
       "       [[163],\n",
       "        [182],\n",
       "        [171],\n",
       "        ...,\n",
       "        [239],\n",
       "        [237],\n",
       "        [228]],\n",
       "\n",
       "       ...,\n",
       "\n",
       "       [[177],\n",
       "        [190],\n",
       "        [186],\n",
       "        ...,\n",
       "        [142],\n",
       "        [209],\n",
       "        [182]],\n",
       "\n",
       "       [[190],\n",
       "        [184],\n",
       "        [181],\n",
       "        ...,\n",
       "        [182],\n",
       "        [178],\n",
       "        [179]],\n",
       "\n",
       "       [[189],\n",
       "        [172],\n",
       "        [193],\n",
       "        ...,\n",
       "        [173],\n",
       "        [194],\n",
       "        [205]]], dtype=uint8)"
      ]
     },
     "execution_count": 20,
     "metadata": {},
     "output_type": "execute_result"
    }
   ],
   "source": [
    "X[1]"
   ]
  },
  {
   "cell_type": "code",
   "execution_count": 1,
   "metadata": {
    "ExecuteTime": {
     "end_time": "2019-03-19T08:19:15.307124Z",
     "start_time": "2019-03-19T08:19:14.145410Z"
    }
   },
   "outputs": [],
   "source": [
    "import tensorflow as tf\n",
    "from tensorflow.keras.models import Sequential\n",
    "from tensorflow.keras.layers import Dense, Dropout, Activation, Flatten\n",
    "from tensorflow.keras.layers import Conv2D, MaxPooling2D\n",
    "from tensorflow.keras.callbacks import TensorBoard\n",
    "import pickle\n",
    "import time"
   ]
  },
  {
   "cell_type": "code",
   "execution_count": 22,
   "metadata": {
    "ExecuteTime": {
     "end_time": "2019-03-19T02:23:02.956661Z",
     "start_time": "2019-03-19T02:23:02.790837Z"
    }
   },
   "outputs": [],
   "source": [
    "# limit VRAM on GPU for multiple training\n",
    "gpu_options = tf.GPUOptions(per_process_gpu_memory_fraction=0.333)\n",
    "sess = tf.Session(config=tf.ConfigProto(gpu_options=gpu_options))"
   ]
  },
  {
   "cell_type": "code",
   "execution_count": 2,
   "metadata": {
    "ExecuteTime": {
     "end_time": "2019-03-19T09:39:49.691233Z",
     "start_time": "2019-03-19T08:19:17.943982Z"
    },
    "scrolled": false
   },
   "outputs": [
    {
     "name": "stdout",
     "output_type": "stream",
     "text": [
      "1-conv-128-nodes-1-dense-1552983562\n",
      "WARNING:tensorflow:From /home/rog/.local/lib/python3.6/site-packages/tensorflow/python/ops/resource_variable_ops.py:435: colocate_with (from tensorflow.python.framework.ops) is deprecated and will be removed in a future version.\n",
      "Instructions for updating:\n",
      "Colocations handled automatically by placer.\n",
      "Train on 187142 samples, validate on 80205 samples\n",
      "WARNING:tensorflow:From /home/rog/.local/lib/python3.6/site-packages/tensorflow/python/ops/math_ops.py:3066: to_int32 (from tensorflow.python.ops.math_ops) is deprecated and will be removed in a future version.\n",
      "Instructions for updating:\n",
      "Use tf.cast instead.\n",
      "Epoch 1/20\n",
      "187142/187142 [==============================] - 242s 1ms/sample - loss: 0.4611 - acc: 0.7832 - val_loss: 0.4380 - val_acc: 0.8024\n",
      "Epoch 2/20\n",
      "187142/187142 [==============================] - 248s 1ms/sample - loss: 0.4316 - acc: 0.8052 - val_loss: 0.4272 - val_acc: 0.8069\n",
      "Epoch 3/20\n",
      "187142/187142 [==============================] - 241s 1ms/sample - loss: 0.4162 - acc: 0.8134 - val_loss: 0.4486 - val_acc: 0.7863\n",
      "Epoch 4/20\n",
      "187142/187142 [==============================] - 240s 1ms/sample - loss: 0.4008 - acc: 0.8217 - val_loss: 0.4333 - val_acc: 0.8050\n",
      "Epoch 5/20\n",
      "187142/187142 [==============================] - 240s 1ms/sample - loss: 0.3846 - acc: 0.8298 - val_loss: 0.4339 - val_acc: 0.8114\n",
      "Epoch 6/20\n",
      "187142/187142 [==============================] - 241s 1ms/sample - loss: 0.3660 - acc: 0.8390 - val_loss: 0.4374 - val_acc: 0.8057\n",
      "Epoch 7/20\n",
      "187142/187142 [==============================] - 247s 1ms/sample - loss: 0.3449 - acc: 0.8499 - val_loss: 0.4670 - val_acc: 0.8022\n",
      "Epoch 8/20\n",
      "187142/187142 [==============================] - 244s 1ms/sample - loss: 0.3200 - acc: 0.8625 - val_loss: 0.4989 - val_acc: 0.7952\n",
      "Epoch 9/20\n",
      "187142/187142 [==============================] - 247s 1ms/sample - loss: 0.2926 - acc: 0.8760 - val_loss: 0.5301 - val_acc: 0.7929\n",
      "Epoch 10/20\n",
      "187142/187142 [==============================] - 247s 1ms/sample - loss: 0.2618 - acc: 0.8904 - val_loss: 0.5782 - val_acc: 0.7872\n",
      "Epoch 11/20\n",
      "187142/187142 [==============================] - 243s 1ms/sample - loss: 0.2277 - acc: 0.9076 - val_loss: 0.6290 - val_acc: 0.7760\n",
      "Epoch 12/20\n",
      "187142/187142 [==============================] - 244s 1ms/sample - loss: 0.1965 - acc: 0.9220 - val_loss: 0.7317 - val_acc: 0.7752\n",
      "Epoch 13/20\n",
      "187142/187142 [==============================] - 242s 1ms/sample - loss: 0.1652 - acc: 0.9361 - val_loss: 0.8280 - val_acc: 0.7817\n",
      "Epoch 14/20\n",
      "187142/187142 [==============================] - 240s 1ms/sample - loss: 0.1378 - acc: 0.9484 - val_loss: 0.9711 - val_acc: 0.7791\n",
      "Epoch 15/20\n",
      "187142/187142 [==============================] - 237s 1ms/sample - loss: 0.1154 - acc: 0.9578 - val_loss: 1.0562 - val_acc: 0.7781\n",
      "Epoch 16/20\n",
      "187142/187142 [==============================] - 239s 1ms/sample - loss: 0.0934 - acc: 0.9673 - val_loss: 1.1451 - val_acc: 0.7742\n",
      "Epoch 17/20\n",
      "187142/187142 [==============================] - 236s 1ms/sample - loss: 0.0850 - acc: 0.9707 - val_loss: 1.1817 - val_acc: 0.7710\n",
      "Epoch 18/20\n",
      "187142/187142 [==============================] - 236s 1ms/sample - loss: 0.0703 - acc: 0.9766 - val_loss: 1.2524 - val_acc: 0.7740\n",
      "Epoch 19/20\n",
      "187142/187142 [==============================] - 237s 1ms/sample - loss: 0.0601 - acc: 0.9806 - val_loss: 1.3486 - val_acc: 0.7671\n",
      "Epoch 20/20\n",
      "187142/187142 [==============================] - 234s 1ms/sample - loss: 0.0528 - acc: 0.9833 - val_loss: 1.3944 - val_acc: 0.7656\n"
     ]
    }
   ],
   "source": [
    "pickle_in = open(\"X_cancer.pickle\",\"rb\")\n",
    "X = pickle.load(pickle_in)\n",
    "\n",
    "pickle_in = open(\"y_cancer.pickle\",\"rb\")\n",
    "y = pickle.load(pickle_in)\n",
    "\n",
    "X = X/255.0\n",
    "\n",
    "dense_layers = [1]\n",
    "layer_sizes = [128]\n",
    "conv_layers = [1]\n",
    "\n",
    "for dense_layer in dense_layers:\n",
    "    for layer_size in layer_sizes:\n",
    "        for conv_layer in conv_layers:\n",
    "            NAME = \"{}-conv-{}-nodes-{}-dense-{}\".format(conv_layer, layer_size, dense_layer, int(time.time()))\n",
    "            print(NAME)\n",
    "\n",
    "            model = Sequential()\n",
    "\n",
    "            model.add(Conv2D(layer_size, (3, 3), input_shape=X.shape[1:]))\n",
    "            model.add(Activation('relu'))\n",
    "            model.add(MaxPooling2D(pool_size=(2, 2)))\n",
    "\n",
    "            for l in range(conv_layer-1):\n",
    "                model.add(Conv2D(layer_size, (3, 3)))\n",
    "                model.add(Activation('relu'))\n",
    "                model.add(MaxPooling2D(pool_size=(2, 2)))\n",
    "\n",
    "            model.add(Flatten())\n",
    "\n",
    "            for _ in range(dense_layer):\n",
    "                model.add(Dense(layer_size))\n",
    "                model.add(Activation('relu'))\n",
    "\n",
    "            model.add(Dense(1))\n",
    "            model.add(Activation('sigmoid'))\n",
    "\n",
    "            tensorboard = TensorBoard(log_dir=\"logs_cancer/{}\".format(NAME))\n",
    "\n",
    "            model.compile(loss='binary_crossentropy',\n",
    "                          optimizer='adam',\n",
    "                          metrics=['accuracy'],\n",
    "                          )\n",
    "\n",
    "            model.fit(X, y,\n",
    "                      batch_size=32,\n",
    "                      epochs=20,\n",
    "                      validation_split=0.3,\n",
    "                      callbacks=[tensorboard])"
   ]
  },
  {
   "cell_type": "code",
   "execution_count": 6,
   "metadata": {
    "ExecuteTime": {
     "end_time": "2019-03-19T11:57:15.771093Z",
     "start_time": "2019-03-19T11:57:15.526315Z"
    }
   },
   "outputs": [],
   "source": [
    "model.save('model_cancer.model')"
   ]
  },
  {
   "cell_type": "code",
   "execution_count": 7,
   "metadata": {
    "ExecuteTime": {
     "end_time": "2019-03-19T11:57:17.748129Z",
     "start_time": "2019-03-19T11:57:16.140762Z"
    }
   },
   "outputs": [
    {
     "name": "stdout",
     "output_type": "stream",
     "text": [
      "non_invasive_carcinoma\n"
     ]
    },
    {
     "data": {
      "text/plain": [
       "[]"
      ]
     },
     "execution_count": 7,
     "metadata": {},
     "output_type": "execute_result"
    },
    {
     "data": {
      "image/png": "[encoded data removed]",
      "text/plain": [
       "<matplotlib.figure.Figure at 0x7fd1e7be7ba8>"
      ]
     },
     "metadata": {
      "needs_background": "light"
     },
     "output_type": "display_data"
    }
   ],
   "source": [
    "import cv2\n",
    "import tensorflow as tf\n",
    "import matplotlib.pyplot as plt\n",
    "%matplotlib inline\n",
    "\n",
    "CATEGORIES = ['invasive_carcinoma', 'non_invasive_carcinoma']\n",
    "\n",
    "def prepare(filepath):\n",
    "    IMG_SIZE = 50\n",
    "    img_array = cv2.imread(filepath, cv2.IMREAD_GRAYSCALE)\n",
    "    new_array = cv2.resize(img_array, (IMG_SIZE, IMG_SIZE))\n",
    "    return new_array.reshape(-1, IMG_SIZE, IMG_SIZE, 1)\n",
    "\n",
    "model = tf.keras.models.load_model('model_cancer.model')\n",
    "invasive = 'invasive.png'\n",
    "PREDICTIONS = model.predict([prepare(invasive)])\n",
    "print(CATEGORIES[int(PREDICTIONS[0][0])])\n",
    "\n",
    "im_array = cv2.imread(invasive, cv2.IMREAD_COLOR)\n",
    "plt.imshow(im_array)\n",
    "plt.plot()"
   ]
  },
  {
   "cell_type": "code",
   "execution_count": 8,
   "metadata": {
    "ExecuteTime": {
     "end_time": "2019-03-19T11:57:17.877704Z",
     "start_time": "2019-03-19T11:57:17.750614Z"
    }
   },
   "outputs": [
    {
     "name": "stdout",
     "output_type": "stream",
     "text": [
      "non_invasive_carcinoma\n"
     ]
    },
    {
     "data": {
      "text/plain": [
       "[]"
      ]
     },
     "execution_count": 8,
     "metadata": {},
     "output_type": "execute_result"
    },
    {
     "data": {
      "image/png": "[encoded data removed]",
      "text/plain": [
       "<matplotlib.figure.Figure at 0x7fcefc9002e8>"
      ]
     },
     "metadata": {
      "needs_background": "light"
     },
     "output_type": "display_data"
    }
   ],
   "source": [
    "im_pred = 'non_inversive.png'\n",
    "PREDICTION = model.predict([prepare(im_pred)])\n",
    "print(CATEGORIES[int(PREDICTION[0][0])])\n",
    "\n",
    "im_array = cv2.imread(im_pred, cv2.IMREAD_COLOR)\n",
    "plt.imshow(im_array)\n",
    "plt.plot()"
   ]
  },
  {
   "cell_type": "code",
   "execution_count": null,
   "metadata": {},
   "outputs": [],
   "source": []
  },
  {
   "cell_type": "code",
   "execution_count": null,
   "metadata": {},
   "outputs": [],
   "source": []
  },
  {
   "cell_type": "code",
   "execution_count": null,
   "metadata": {},
   "outputs": [],
   "source": []
  },
  {
   "cell_type": "code",
   "execution_count": null,
   "metadata": {},
   "outputs": [],
   "source": []
  },
  {
   "cell_type": "code",
   "execution_count": null,
   "metadata": {},
   "outputs": [],
   "source": []
  }
 ],
 "metadata": {
  "kernelspec": {
   "display_name": "Python 3",
   "language": "python",
   "name": "python3"
  },
  "language_info": {
   "codemirror_mode": {
    "name": "ipython",
    "version": 3
   },
   "file_extension": ".py",
   "mimetype": "text/x-python",
   "name": "python",
   "nbconvert_exporter": "python",
   "pygments_lexer": "ipython3",
   "version": "3.6.7"
  }
 },
 "nbformat": 4,
 "nbformat_minor": 2
}
